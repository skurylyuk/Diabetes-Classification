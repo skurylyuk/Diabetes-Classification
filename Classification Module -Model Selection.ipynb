{
 "cells": [
  {
   "cell_type": "code",
   "execution_count": 74,
   "id": "c7741055",
   "metadata": {},
   "outputs": [],
   "source": [
    "import numpy as np\n",
    "import pandas as pd\n",
    "import matplotlib.pyplot as plt\n",
    "%matplotlib inline\n",
    "import numpy as np \n",
    "import matplotlib.pyplot as plt\n",
    "import seaborn as sns\n",
    "%matplotlib inline\n",
    "from sklearn.model_selection import train_test_split\n",
    "from sklearn.linear_model import LogisticRegression\n",
    "from sklearn.metrics import confusion_matrix\n",
    "from sklearn.metrics import classification_report\n",
    "import warnings\n",
    "warnings.filterwarnings('ignore')\n",
    "import sklearn.metrics as metrics\n",
    "from sklearn.metrics import accuracy_score\n",
    "from six import StringIO  \n",
    "from IPython.display import Image \n",
    "from sklearn.tree import export_graphviz\n",
    "from sklearn.tree import DecisionTreeClassifier "
   ]
  },
  {
   "cell_type": "code",
   "execution_count": 4,
   "id": "ad02f90b",
   "metadata": {},
   "outputs": [],
   "source": [
    "df = pd.read_csv(\"classification.csv\")"
   ]
  },
  {
   "cell_type": "code",
   "execution_count": 5,
   "id": "bef658da",
   "metadata": {},
   "outputs": [
    {
     "data": {
      "text/html": [
       "<div>\n",
       "<style scoped>\n",
       "    .dataframe tbody tr th:only-of-type {\n",
       "        vertical-align: middle;\n",
       "    }\n",
       "\n",
       "    .dataframe tbody tr th {\n",
       "        vertical-align: top;\n",
       "    }\n",
       "\n",
       "    .dataframe thead th {\n",
       "        text-align: right;\n",
       "    }\n",
       "</style>\n",
       "<table border=\"1\" class=\"dataframe\">\n",
       "  <thead>\n",
       "    <tr style=\"text-align: right;\">\n",
       "      <th></th>\n",
       "      <th>Diabetes_012</th>\n",
       "      <th>HighBP</th>\n",
       "      <th>HighChol</th>\n",
       "      <th>CholCheck</th>\n",
       "      <th>BMI</th>\n",
       "      <th>Smoker</th>\n",
       "      <th>Stroke</th>\n",
       "      <th>HeartDiseaseorAttack</th>\n",
       "      <th>PhysActivity</th>\n",
       "      <th>Fruits</th>\n",
       "      <th>...</th>\n",
       "      <th>AnyHealthcare</th>\n",
       "      <th>NoDocbcCost</th>\n",
       "      <th>GenHlth</th>\n",
       "      <th>MentHlth</th>\n",
       "      <th>PhysHlth</th>\n",
       "      <th>DiffWalk</th>\n",
       "      <th>Sex</th>\n",
       "      <th>Age</th>\n",
       "      <th>Education</th>\n",
       "      <th>Income</th>\n",
       "    </tr>\n",
       "  </thead>\n",
       "  <tbody>\n",
       "    <tr>\n",
       "      <th>0</th>\n",
       "      <td>0.0</td>\n",
       "      <td>1.0</td>\n",
       "      <td>1.0</td>\n",
       "      <td>1.0</td>\n",
       "      <td>40.0</td>\n",
       "      <td>1.0</td>\n",
       "      <td>0.0</td>\n",
       "      <td>0.0</td>\n",
       "      <td>0.0</td>\n",
       "      <td>0.0</td>\n",
       "      <td>...</td>\n",
       "      <td>1.0</td>\n",
       "      <td>0.0</td>\n",
       "      <td>5.0</td>\n",
       "      <td>18.0</td>\n",
       "      <td>15.0</td>\n",
       "      <td>1.0</td>\n",
       "      <td>0.0</td>\n",
       "      <td>9.0</td>\n",
       "      <td>4.0</td>\n",
       "      <td>3.0</td>\n",
       "    </tr>\n",
       "    <tr>\n",
       "      <th>1</th>\n",
       "      <td>0.0</td>\n",
       "      <td>0.0</td>\n",
       "      <td>0.0</td>\n",
       "      <td>0.0</td>\n",
       "      <td>25.0</td>\n",
       "      <td>1.0</td>\n",
       "      <td>0.0</td>\n",
       "      <td>0.0</td>\n",
       "      <td>1.0</td>\n",
       "      <td>0.0</td>\n",
       "      <td>...</td>\n",
       "      <td>0.0</td>\n",
       "      <td>1.0</td>\n",
       "      <td>3.0</td>\n",
       "      <td>0.0</td>\n",
       "      <td>0.0</td>\n",
       "      <td>0.0</td>\n",
       "      <td>0.0</td>\n",
       "      <td>7.0</td>\n",
       "      <td>6.0</td>\n",
       "      <td>1.0</td>\n",
       "    </tr>\n",
       "    <tr>\n",
       "      <th>2</th>\n",
       "      <td>0.0</td>\n",
       "      <td>1.0</td>\n",
       "      <td>1.0</td>\n",
       "      <td>1.0</td>\n",
       "      <td>28.0</td>\n",
       "      <td>0.0</td>\n",
       "      <td>0.0</td>\n",
       "      <td>0.0</td>\n",
       "      <td>0.0</td>\n",
       "      <td>1.0</td>\n",
       "      <td>...</td>\n",
       "      <td>1.0</td>\n",
       "      <td>1.0</td>\n",
       "      <td>5.0</td>\n",
       "      <td>30.0</td>\n",
       "      <td>30.0</td>\n",
       "      <td>1.0</td>\n",
       "      <td>0.0</td>\n",
       "      <td>9.0</td>\n",
       "      <td>4.0</td>\n",
       "      <td>8.0</td>\n",
       "    </tr>\n",
       "    <tr>\n",
       "      <th>3</th>\n",
       "      <td>0.0</td>\n",
       "      <td>1.0</td>\n",
       "      <td>0.0</td>\n",
       "      <td>1.0</td>\n",
       "      <td>27.0</td>\n",
       "      <td>0.0</td>\n",
       "      <td>0.0</td>\n",
       "      <td>0.0</td>\n",
       "      <td>1.0</td>\n",
       "      <td>1.0</td>\n",
       "      <td>...</td>\n",
       "      <td>1.0</td>\n",
       "      <td>0.0</td>\n",
       "      <td>2.0</td>\n",
       "      <td>0.0</td>\n",
       "      <td>0.0</td>\n",
       "      <td>0.0</td>\n",
       "      <td>0.0</td>\n",
       "      <td>11.0</td>\n",
       "      <td>3.0</td>\n",
       "      <td>6.0</td>\n",
       "    </tr>\n",
       "    <tr>\n",
       "      <th>4</th>\n",
       "      <td>0.0</td>\n",
       "      <td>1.0</td>\n",
       "      <td>1.0</td>\n",
       "      <td>1.0</td>\n",
       "      <td>24.0</td>\n",
       "      <td>0.0</td>\n",
       "      <td>0.0</td>\n",
       "      <td>0.0</td>\n",
       "      <td>1.0</td>\n",
       "      <td>1.0</td>\n",
       "      <td>...</td>\n",
       "      <td>1.0</td>\n",
       "      <td>0.0</td>\n",
       "      <td>2.0</td>\n",
       "      <td>3.0</td>\n",
       "      <td>0.0</td>\n",
       "      <td>0.0</td>\n",
       "      <td>0.0</td>\n",
       "      <td>11.0</td>\n",
       "      <td>5.0</td>\n",
       "      <td>4.0</td>\n",
       "    </tr>\n",
       "    <tr>\n",
       "      <th>...</th>\n",
       "      <td>...</td>\n",
       "      <td>...</td>\n",
       "      <td>...</td>\n",
       "      <td>...</td>\n",
       "      <td>...</td>\n",
       "      <td>...</td>\n",
       "      <td>...</td>\n",
       "      <td>...</td>\n",
       "      <td>...</td>\n",
       "      <td>...</td>\n",
       "      <td>...</td>\n",
       "      <td>...</td>\n",
       "      <td>...</td>\n",
       "      <td>...</td>\n",
       "      <td>...</td>\n",
       "      <td>...</td>\n",
       "      <td>...</td>\n",
       "      <td>...</td>\n",
       "      <td>...</td>\n",
       "      <td>...</td>\n",
       "      <td>...</td>\n",
       "    </tr>\n",
       "    <tr>\n",
       "      <th>253675</th>\n",
       "      <td>0.0</td>\n",
       "      <td>1.0</td>\n",
       "      <td>1.0</td>\n",
       "      <td>1.0</td>\n",
       "      <td>45.0</td>\n",
       "      <td>0.0</td>\n",
       "      <td>0.0</td>\n",
       "      <td>0.0</td>\n",
       "      <td>0.0</td>\n",
       "      <td>1.0</td>\n",
       "      <td>...</td>\n",
       "      <td>1.0</td>\n",
       "      <td>0.0</td>\n",
       "      <td>3.0</td>\n",
       "      <td>0.0</td>\n",
       "      <td>5.0</td>\n",
       "      <td>0.0</td>\n",
       "      <td>1.0</td>\n",
       "      <td>5.0</td>\n",
       "      <td>6.0</td>\n",
       "      <td>7.0</td>\n",
       "    </tr>\n",
       "    <tr>\n",
       "      <th>253676</th>\n",
       "      <td>2.0</td>\n",
       "      <td>1.0</td>\n",
       "      <td>1.0</td>\n",
       "      <td>1.0</td>\n",
       "      <td>18.0</td>\n",
       "      <td>0.0</td>\n",
       "      <td>0.0</td>\n",
       "      <td>0.0</td>\n",
       "      <td>0.0</td>\n",
       "      <td>0.0</td>\n",
       "      <td>...</td>\n",
       "      <td>1.0</td>\n",
       "      <td>0.0</td>\n",
       "      <td>4.0</td>\n",
       "      <td>0.0</td>\n",
       "      <td>0.0</td>\n",
       "      <td>1.0</td>\n",
       "      <td>0.0</td>\n",
       "      <td>11.0</td>\n",
       "      <td>2.0</td>\n",
       "      <td>4.0</td>\n",
       "    </tr>\n",
       "    <tr>\n",
       "      <th>253677</th>\n",
       "      <td>0.0</td>\n",
       "      <td>0.0</td>\n",
       "      <td>0.0</td>\n",
       "      <td>1.0</td>\n",
       "      <td>28.0</td>\n",
       "      <td>0.0</td>\n",
       "      <td>0.0</td>\n",
       "      <td>0.0</td>\n",
       "      <td>1.0</td>\n",
       "      <td>1.0</td>\n",
       "      <td>...</td>\n",
       "      <td>1.0</td>\n",
       "      <td>0.0</td>\n",
       "      <td>1.0</td>\n",
       "      <td>0.0</td>\n",
       "      <td>0.0</td>\n",
       "      <td>0.0</td>\n",
       "      <td>0.0</td>\n",
       "      <td>2.0</td>\n",
       "      <td>5.0</td>\n",
       "      <td>2.0</td>\n",
       "    </tr>\n",
       "    <tr>\n",
       "      <th>253678</th>\n",
       "      <td>0.0</td>\n",
       "      <td>1.0</td>\n",
       "      <td>0.0</td>\n",
       "      <td>1.0</td>\n",
       "      <td>23.0</td>\n",
       "      <td>0.0</td>\n",
       "      <td>0.0</td>\n",
       "      <td>0.0</td>\n",
       "      <td>0.0</td>\n",
       "      <td>1.0</td>\n",
       "      <td>...</td>\n",
       "      <td>1.0</td>\n",
       "      <td>0.0</td>\n",
       "      <td>3.0</td>\n",
       "      <td>0.0</td>\n",
       "      <td>0.0</td>\n",
       "      <td>0.0</td>\n",
       "      <td>1.0</td>\n",
       "      <td>7.0</td>\n",
       "      <td>5.0</td>\n",
       "      <td>1.0</td>\n",
       "    </tr>\n",
       "    <tr>\n",
       "      <th>253679</th>\n",
       "      <td>2.0</td>\n",
       "      <td>1.0</td>\n",
       "      <td>1.0</td>\n",
       "      <td>1.0</td>\n",
       "      <td>25.0</td>\n",
       "      <td>0.0</td>\n",
       "      <td>0.0</td>\n",
       "      <td>1.0</td>\n",
       "      <td>1.0</td>\n",
       "      <td>1.0</td>\n",
       "      <td>...</td>\n",
       "      <td>1.0</td>\n",
       "      <td>0.0</td>\n",
       "      <td>2.0</td>\n",
       "      <td>0.0</td>\n",
       "      <td>0.0</td>\n",
       "      <td>0.0</td>\n",
       "      <td>0.0</td>\n",
       "      <td>9.0</td>\n",
       "      <td>6.0</td>\n",
       "      <td>2.0</td>\n",
       "    </tr>\n",
       "  </tbody>\n",
       "</table>\n",
       "<p>253680 rows × 22 columns</p>\n",
       "</div>"
      ],
      "text/plain": [
       "        Diabetes_012  HighBP  HighChol  CholCheck   BMI  Smoker  Stroke  \\\n",
       "0                0.0     1.0       1.0        1.0  40.0     1.0     0.0   \n",
       "1                0.0     0.0       0.0        0.0  25.0     1.0     0.0   \n",
       "2                0.0     1.0       1.0        1.0  28.0     0.0     0.0   \n",
       "3                0.0     1.0       0.0        1.0  27.0     0.0     0.0   \n",
       "4                0.0     1.0       1.0        1.0  24.0     0.0     0.0   \n",
       "...              ...     ...       ...        ...   ...     ...     ...   \n",
       "253675           0.0     1.0       1.0        1.0  45.0     0.0     0.0   \n",
       "253676           2.0     1.0       1.0        1.0  18.0     0.0     0.0   \n",
       "253677           0.0     0.0       0.0        1.0  28.0     0.0     0.0   \n",
       "253678           0.0     1.0       0.0        1.0  23.0     0.0     0.0   \n",
       "253679           2.0     1.0       1.0        1.0  25.0     0.0     0.0   \n",
       "\n",
       "        HeartDiseaseorAttack  PhysActivity  Fruits  ...  AnyHealthcare  \\\n",
       "0                        0.0           0.0     0.0  ...            1.0   \n",
       "1                        0.0           1.0     0.0  ...            0.0   \n",
       "2                        0.0           0.0     1.0  ...            1.0   \n",
       "3                        0.0           1.0     1.0  ...            1.0   \n",
       "4                        0.0           1.0     1.0  ...            1.0   \n",
       "...                      ...           ...     ...  ...            ...   \n",
       "253675                   0.0           0.0     1.0  ...            1.0   \n",
       "253676                   0.0           0.0     0.0  ...            1.0   \n",
       "253677                   0.0           1.0     1.0  ...            1.0   \n",
       "253678                   0.0           0.0     1.0  ...            1.0   \n",
       "253679                   1.0           1.0     1.0  ...            1.0   \n",
       "\n",
       "        NoDocbcCost  GenHlth  MentHlth  PhysHlth  DiffWalk  Sex   Age  \\\n",
       "0               0.0      5.0      18.0      15.0       1.0  0.0   9.0   \n",
       "1               1.0      3.0       0.0       0.0       0.0  0.0   7.0   \n",
       "2               1.0      5.0      30.0      30.0       1.0  0.0   9.0   \n",
       "3               0.0      2.0       0.0       0.0       0.0  0.0  11.0   \n",
       "4               0.0      2.0       3.0       0.0       0.0  0.0  11.0   \n",
       "...             ...      ...       ...       ...       ...  ...   ...   \n",
       "253675          0.0      3.0       0.0       5.0       0.0  1.0   5.0   \n",
       "253676          0.0      4.0       0.0       0.0       1.0  0.0  11.0   \n",
       "253677          0.0      1.0       0.0       0.0       0.0  0.0   2.0   \n",
       "253678          0.0      3.0       0.0       0.0       0.0  1.0   7.0   \n",
       "253679          0.0      2.0       0.0       0.0       0.0  0.0   9.0   \n",
       "\n",
       "        Education  Income  \n",
       "0             4.0     3.0  \n",
       "1             6.0     1.0  \n",
       "2             4.0     8.0  \n",
       "3             3.0     6.0  \n",
       "4             5.0     4.0  \n",
       "...           ...     ...  \n",
       "253675        6.0     7.0  \n",
       "253676        2.0     4.0  \n",
       "253677        5.0     2.0  \n",
       "253678        5.0     1.0  \n",
       "253679        6.0     2.0  \n",
       "\n",
       "[253680 rows x 22 columns]"
      ]
     },
     "execution_count": 5,
     "metadata": {},
     "output_type": "execute_result"
    }
   ],
   "source": [
    "df"
   ]
  },
  {
   "cell_type": "code",
   "execution_count": 6,
   "id": "515a0dcb",
   "metadata": {},
   "outputs": [
    {
     "name": "stdout",
     "output_type": "stream",
     "text": [
      "<class 'pandas.core.frame.DataFrame'>\n",
      "RangeIndex: 253680 entries, 0 to 253679\n",
      "Data columns (total 22 columns):\n",
      " #   Column                Non-Null Count   Dtype  \n",
      "---  ------                --------------   -----  \n",
      " 0   Diabetes_012          253680 non-null  float64\n",
      " 1   HighBP                253680 non-null  float64\n",
      " 2   HighChol              253680 non-null  float64\n",
      " 3   CholCheck             253680 non-null  float64\n",
      " 4   BMI                   253680 non-null  float64\n",
      " 5   Smoker                253680 non-null  float64\n",
      " 6   Stroke                253680 non-null  float64\n",
      " 7   HeartDiseaseorAttack  253680 non-null  float64\n",
      " 8   PhysActivity          253680 non-null  float64\n",
      " 9   Fruits                253680 non-null  float64\n",
      " 10  Veggies               253680 non-null  float64\n",
      " 11  HvyAlcoholConsump     253680 non-null  float64\n",
      " 12  AnyHealthcare         253680 non-null  float64\n",
      " 13  NoDocbcCost           253680 non-null  float64\n",
      " 14  GenHlth               253680 non-null  float64\n",
      " 15  MentHlth              253680 non-null  float64\n",
      " 16  PhysHlth              253680 non-null  float64\n",
      " 17  DiffWalk              253680 non-null  float64\n",
      " 18  Sex                   253680 non-null  float64\n",
      " 19  Age                   253680 non-null  float64\n",
      " 20  Education             253680 non-null  float64\n",
      " 21  Income                253680 non-null  float64\n",
      "dtypes: float64(22)\n",
      "memory usage: 42.6 MB\n"
     ]
    }
   ],
   "source": [
    "df.info()"
   ]
  },
  {
   "cell_type": "code",
   "execution_count": 7,
   "id": "4009f2ca",
   "metadata": {},
   "outputs": [
    {
     "data": {
      "text/plain": [
       "Index(['Diabetes_012', 'HighBP', 'HighChol', 'CholCheck', 'BMI', 'Smoker',\n",
       "       'Stroke', 'HeartDiseaseorAttack', 'PhysActivity', 'Fruits', 'Veggies',\n",
       "       'HvyAlcoholConsump', 'AnyHealthcare', 'NoDocbcCost', 'GenHlth',\n",
       "       'MentHlth', 'PhysHlth', 'DiffWalk', 'Sex', 'Age', 'Education',\n",
       "       'Income'],\n",
       "      dtype='object')"
      ]
     },
     "execution_count": 7,
     "metadata": {},
     "output_type": "execute_result"
    }
   ],
   "source": [
    "df.columns"
   ]
  },
  {
   "cell_type": "code",
   "execution_count": 8,
   "id": "6adb642a",
   "metadata": {},
   "outputs": [],
   "source": [
    "df[\"Diabetes_012\"] = df[\"Diabetes_012\"].astype(int)"
   ]
  },
  {
   "cell_type": "code",
   "execution_count": 9,
   "id": "4e9b7b5b",
   "metadata": {},
   "outputs": [],
   "source": [
    "df[\"HighBP\"] = df[\"HighBP\"].astype(int)\n",
    "df[\"HighChol\"] = df[\"HighChol\"].astype(int)\n",
    "df[\"CholCheck\"] = df[\"CholCheck\"].astype(int)\n",
    "df[\"BMI\"] = df[\"BMI\"].astype(int)\n",
    "df[\"Smoker\"] = df[\"Smoker\"].astype(int)\n",
    "df[\"Stroke\"] = df[\"Stroke\"].astype(int)\n",
    "df[\"HeartDiseaseorAttack\"] = df[\"HeartDiseaseorAttack\"].astype(int)\n",
    "df[\"PhysActivity\"] = df[\"PhysActivity\"].astype(int)\n",
    "df[\"Fruits\"] = df[\"Fruits\"].astype(int)\n",
    "df[\"Veggies\"] = df[\"Veggies\"].astype(int)\n",
    "df[\"HvyAlcoholConsump\"] = df[\"HvyAlcoholConsump\"].astype(int)\n",
    "df[\"AnyHealthcare\"] = df[\"AnyHealthcare\"].astype(int)\n",
    "df[\"NoDocbcCost\"] = df[\"NoDocbcCost\"].astype(int)\n",
    "df[\"GenHlth\"] = df[\"GenHlth\"].astype(int)\n",
    "df[\"MentHlth\"] = df[\"MentHlth\"].astype(int)\n",
    "df[\"PhysHlth\"] = df[\"PhysHlth\"].astype(int)\n",
    "df[\"DiffWalk\"] = df[\"DiffWalk\"].astype(int)\n",
    "df[\"Sex\"] = df[\"Sex\"].astype(int)\n",
    "df[\"Age\"] = df[\"Age\"].astype(int)\n",
    "df[\"Education\"] = df[\"Education\"].astype(int)\n",
    "df[\"Income\"] = df[\"Income\"].astype(int)\n"
   ]
  },
  {
   "cell_type": "code",
   "execution_count": 10,
   "id": "1997378b",
   "metadata": {},
   "outputs": [
    {
     "name": "stdout",
     "output_type": "stream",
     "text": [
      "<class 'pandas.core.frame.DataFrame'>\n",
      "RangeIndex: 253680 entries, 0 to 253679\n",
      "Data columns (total 22 columns):\n",
      " #   Column                Non-Null Count   Dtype\n",
      "---  ------                --------------   -----\n",
      " 0   Diabetes_012          253680 non-null  int64\n",
      " 1   HighBP                253680 non-null  int64\n",
      " 2   HighChol              253680 non-null  int64\n",
      " 3   CholCheck             253680 non-null  int64\n",
      " 4   BMI                   253680 non-null  int64\n",
      " 5   Smoker                253680 non-null  int64\n",
      " 6   Stroke                253680 non-null  int64\n",
      " 7   HeartDiseaseorAttack  253680 non-null  int64\n",
      " 8   PhysActivity          253680 non-null  int64\n",
      " 9   Fruits                253680 non-null  int64\n",
      " 10  Veggies               253680 non-null  int64\n",
      " 11  HvyAlcoholConsump     253680 non-null  int64\n",
      " 12  AnyHealthcare         253680 non-null  int64\n",
      " 13  NoDocbcCost           253680 non-null  int64\n",
      " 14  GenHlth               253680 non-null  int64\n",
      " 15  MentHlth              253680 non-null  int64\n",
      " 16  PhysHlth              253680 non-null  int64\n",
      " 17  DiffWalk              253680 non-null  int64\n",
      " 18  Sex                   253680 non-null  int64\n",
      " 19  Age                   253680 non-null  int64\n",
      " 20  Education             253680 non-null  int64\n",
      " 21  Income                253680 non-null  int64\n",
      "dtypes: int64(22)\n",
      "memory usage: 42.6 MB\n"
     ]
    }
   ],
   "source": [
    "df.info()"
   ]
  },
  {
   "cell_type": "code",
   "execution_count": 11,
   "id": "8dccc8fe",
   "metadata": {},
   "outputs": [],
   "source": [
    "#df[\"Diabetes_012\"].replace({1:0}, inplace = True)\n",
    "#df[\"Diabetes_012\"].drop(1, inplace = True)\n",
    "df= df[df[\"Diabetes_012\"]!=1]"
   ]
  },
  {
   "cell_type": "code",
   "execution_count": 12,
   "id": "2f206c74",
   "metadata": {},
   "outputs": [],
   "source": [
    "df.loc[(df[\"Diabetes_012\"]== 2),\"Diabetes_012\" ]=1"
   ]
  },
  {
   "cell_type": "code",
   "execution_count": 13,
   "id": "8e4a6a5c",
   "metadata": {},
   "outputs": [
    {
     "data": {
      "text/html": [
       "<div>\n",
       "<style scoped>\n",
       "    .dataframe tbody tr th:only-of-type {\n",
       "        vertical-align: middle;\n",
       "    }\n",
       "\n",
       "    .dataframe tbody tr th {\n",
       "        vertical-align: top;\n",
       "    }\n",
       "\n",
       "    .dataframe thead th {\n",
       "        text-align: right;\n",
       "    }\n",
       "</style>\n",
       "<table border=\"1\" class=\"dataframe\">\n",
       "  <thead>\n",
       "    <tr style=\"text-align: right;\">\n",
       "      <th></th>\n",
       "      <th>Diabetes_012</th>\n",
       "      <th>HighBP</th>\n",
       "      <th>HighChol</th>\n",
       "      <th>CholCheck</th>\n",
       "      <th>BMI</th>\n",
       "      <th>Smoker</th>\n",
       "      <th>Stroke</th>\n",
       "      <th>HeartDiseaseorAttack</th>\n",
       "      <th>PhysActivity</th>\n",
       "      <th>Fruits</th>\n",
       "      <th>...</th>\n",
       "      <th>AnyHealthcare</th>\n",
       "      <th>NoDocbcCost</th>\n",
       "      <th>GenHlth</th>\n",
       "      <th>MentHlth</th>\n",
       "      <th>PhysHlth</th>\n",
       "      <th>DiffWalk</th>\n",
       "      <th>Sex</th>\n",
       "      <th>Age</th>\n",
       "      <th>Education</th>\n",
       "      <th>Income</th>\n",
       "    </tr>\n",
       "  </thead>\n",
       "  <tbody>\n",
       "    <tr>\n",
       "      <th>0</th>\n",
       "      <td>0</td>\n",
       "      <td>1</td>\n",
       "      <td>1</td>\n",
       "      <td>1</td>\n",
       "      <td>40</td>\n",
       "      <td>1</td>\n",
       "      <td>0</td>\n",
       "      <td>0</td>\n",
       "      <td>0</td>\n",
       "      <td>0</td>\n",
       "      <td>...</td>\n",
       "      <td>1</td>\n",
       "      <td>0</td>\n",
       "      <td>5</td>\n",
       "      <td>18</td>\n",
       "      <td>15</td>\n",
       "      <td>1</td>\n",
       "      <td>0</td>\n",
       "      <td>9</td>\n",
       "      <td>4</td>\n",
       "      <td>3</td>\n",
       "    </tr>\n",
       "    <tr>\n",
       "      <th>1</th>\n",
       "      <td>0</td>\n",
       "      <td>0</td>\n",
       "      <td>0</td>\n",
       "      <td>0</td>\n",
       "      <td>25</td>\n",
       "      <td>1</td>\n",
       "      <td>0</td>\n",
       "      <td>0</td>\n",
       "      <td>1</td>\n",
       "      <td>0</td>\n",
       "      <td>...</td>\n",
       "      <td>0</td>\n",
       "      <td>1</td>\n",
       "      <td>3</td>\n",
       "      <td>0</td>\n",
       "      <td>0</td>\n",
       "      <td>0</td>\n",
       "      <td>0</td>\n",
       "      <td>7</td>\n",
       "      <td>6</td>\n",
       "      <td>1</td>\n",
       "    </tr>\n",
       "    <tr>\n",
       "      <th>2</th>\n",
       "      <td>0</td>\n",
       "      <td>1</td>\n",
       "      <td>1</td>\n",
       "      <td>1</td>\n",
       "      <td>28</td>\n",
       "      <td>0</td>\n",
       "      <td>0</td>\n",
       "      <td>0</td>\n",
       "      <td>0</td>\n",
       "      <td>1</td>\n",
       "      <td>...</td>\n",
       "      <td>1</td>\n",
       "      <td>1</td>\n",
       "      <td>5</td>\n",
       "      <td>30</td>\n",
       "      <td>30</td>\n",
       "      <td>1</td>\n",
       "      <td>0</td>\n",
       "      <td>9</td>\n",
       "      <td>4</td>\n",
       "      <td>8</td>\n",
       "    </tr>\n",
       "    <tr>\n",
       "      <th>3</th>\n",
       "      <td>0</td>\n",
       "      <td>1</td>\n",
       "      <td>0</td>\n",
       "      <td>1</td>\n",
       "      <td>27</td>\n",
       "      <td>0</td>\n",
       "      <td>0</td>\n",
       "      <td>0</td>\n",
       "      <td>1</td>\n",
       "      <td>1</td>\n",
       "      <td>...</td>\n",
       "      <td>1</td>\n",
       "      <td>0</td>\n",
       "      <td>2</td>\n",
       "      <td>0</td>\n",
       "      <td>0</td>\n",
       "      <td>0</td>\n",
       "      <td>0</td>\n",
       "      <td>11</td>\n",
       "      <td>3</td>\n",
       "      <td>6</td>\n",
       "    </tr>\n",
       "    <tr>\n",
       "      <th>4</th>\n",
       "      <td>0</td>\n",
       "      <td>1</td>\n",
       "      <td>1</td>\n",
       "      <td>1</td>\n",
       "      <td>24</td>\n",
       "      <td>0</td>\n",
       "      <td>0</td>\n",
       "      <td>0</td>\n",
       "      <td>1</td>\n",
       "      <td>1</td>\n",
       "      <td>...</td>\n",
       "      <td>1</td>\n",
       "      <td>0</td>\n",
       "      <td>2</td>\n",
       "      <td>3</td>\n",
       "      <td>0</td>\n",
       "      <td>0</td>\n",
       "      <td>0</td>\n",
       "      <td>11</td>\n",
       "      <td>5</td>\n",
       "      <td>4</td>\n",
       "    </tr>\n",
       "  </tbody>\n",
       "</table>\n",
       "<p>5 rows × 22 columns</p>\n",
       "</div>"
      ],
      "text/plain": [
       "   Diabetes_012  HighBP  HighChol  CholCheck  BMI  Smoker  Stroke  \\\n",
       "0             0       1         1          1   40       1       0   \n",
       "1             0       0         0          0   25       1       0   \n",
       "2             0       1         1          1   28       0       0   \n",
       "3             0       1         0          1   27       0       0   \n",
       "4             0       1         1          1   24       0       0   \n",
       "\n",
       "   HeartDiseaseorAttack  PhysActivity  Fruits  ...  AnyHealthcare  \\\n",
       "0                     0             0       0  ...              1   \n",
       "1                     0             1       0  ...              0   \n",
       "2                     0             0       1  ...              1   \n",
       "3                     0             1       1  ...              1   \n",
       "4                     0             1       1  ...              1   \n",
       "\n",
       "   NoDocbcCost  GenHlth  MentHlth  PhysHlth  DiffWalk  Sex  Age  Education  \\\n",
       "0            0        5        18        15         1    0    9          4   \n",
       "1            1        3         0         0         0    0    7          6   \n",
       "2            1        5        30        30         1    0    9          4   \n",
       "3            0        2         0         0         0    0   11          3   \n",
       "4            0        2         3         0         0    0   11          5   \n",
       "\n",
       "   Income  \n",
       "0       3  \n",
       "1       1  \n",
       "2       8  \n",
       "3       6  \n",
       "4       4  \n",
       "\n",
       "[5 rows x 22 columns]"
      ]
     },
     "execution_count": 13,
     "metadata": {},
     "output_type": "execute_result"
    }
   ],
   "source": [
    "df.head()"
   ]
  },
  {
   "cell_type": "code",
   "execution_count": 14,
   "id": "65723774",
   "metadata": {},
   "outputs": [],
   "source": [
    "#Divide dataset into features and Traget variables\n",
    "X= df.loc[:, \"HighBP\": \"Income\"]\n",
    "y = df[\"Diabetes_012\"]"
   ]
  },
  {
   "cell_type": "code",
   "execution_count": 112,
   "id": "fe945301",
   "metadata": {},
   "outputs": [],
   "source": [
    "df.to_csv('Diabetes.csv')"
   ]
  },
  {
   "cell_type": "code",
   "execution_count": 16,
   "id": "c8aac485",
   "metadata": {},
   "outputs": [],
   "source": [
    "def accuracy(actuals, preds):\n",
    "    return np.mean(actuals == preds)\n",
    "\n",
    "def precision(actuals, preds):\n",
    "    tp = np.sum((actuals == 1) & (preds == 1))\n",
    "    fp = np.sum((actuals == 0) & (preds == 1))\n",
    "    return tp / (tp + fp)\n",
    "\n",
    "def recall(actuals, preds):\n",
    "    tp = np.sum((actuals == 1) & (preds == 1))\n",
    "    fn = np.sum((actuals == 1) & (preds == 0))\n",
    "    return tp / (tp + fn)\n",
    "\n",
    "def F1(actuals, preds):\n",
    "    p, r = precision(actuals, preds), recall(actuals, preds)\n",
    "    return 2*p*r / (p + r)"
   ]
  },
  {
   "cell_type": "code",
   "execution_count": 17,
   "id": "c29a7b95",
   "metadata": {},
   "outputs": [
    {
     "name": "stdout",
     "output_type": "stream",
     "text": [
      "0    0.858076\n",
      "1    0.141924\n",
      "Name: Diabetes_012, dtype: float64\n"
     ]
    },
    {
     "data": {
      "image/png": "[encoded data removed]",
      "text/plain": [
       "<Figure size 432x288 with 1 Axes>"
      ]
     },
     "metadata": {
      "needs_background": "light"
     },
     "output_type": "display_data"
    }
   ],
   "source": [
    "from sklearn.preprocessing import StandardScaler\n",
    "target = df.Diabetes_012.value_counts(normalize=True) \n",
    "print(target)\n",
    "sns.barplot(target.index, target.values)\n",
    "plt.title('Diabetes Data Ratio')\n",
    "plt.ylabel('Percentage of Data', fontsize=12);"
   ]
  },
  {
   "cell_type": "code",
   "execution_count": 18,
   "id": "2f4f194f",
   "metadata": {},
   "outputs": [],
   "source": [
    "import sweetviz\n",
    "from sweetviz.sv_types import NumWithPercent, FeatureToProcess"
   ]
  },
  {
   "cell_type": "code",
   "execution_count": 19,
   "id": "eff2f568",
   "metadata": {},
   "outputs": [
    {
     "data": {
      "application/vnd.jupyter.widget-view+json": {
       "model_id": "00f9fa06e6ac45879eddbf090e2be500",
       "version_major": 2,
       "version_minor": 0
      },
      "text/plain": [
       "                                             |      | [  0%]   00:00 -> (? left)"
      ]
     },
     "metadata": {},
     "output_type": "display_data"
    },
    {
     "name": "stdout",
     "output_type": "stream",
     "text": [
      "Report data.html was generated! NOTEBOOK/COLAB USERS: the web browser MAY not pop up, regardless, the report IS saved in your notebook/colab files.\n"
     ]
    }
   ],
   "source": [
    "my_report = sweetviz.analyze(df, target_feat= \"Diabetes_012\")\n",
    "my_report.show_html(\"data.html\")"
   ]
  },
  {
   "cell_type": "markdown",
   "id": "a0c8a050",
   "metadata": {},
   "source": [
    "# Split Data into Train and Test"
   ]
  },
  {
   "cell_type": "code",
   "execution_count": 20,
   "id": "11b17095",
   "metadata": {},
   "outputs": [],
   "source": [
    "from sklearn.model_selection import train_test_split\n",
    "from sklearn.utils import resample\n"
   ]
  },
  {
   "cell_type": "code",
   "execution_count": 21,
   "id": "f6361257",
   "metadata": {},
   "outputs": [
    {
     "data": {
      "text/plain": [
       "((186786, 21), (186786,))"
      ]
     },
     "execution_count": 21,
     "metadata": {},
     "output_type": "execute_result"
    }
   ],
   "source": [
    "X_train, X_test, y_train, y_test = train_test_split(X, y, test_size=0.25, random_state=27)\n",
    "X_train.shape, y_train.shape\n"
   ]
  },
  {
   "cell_type": "markdown",
   "id": "204082b6",
   "metadata": {},
   "source": [
    "# Over Sample Data to Fix Imbalance"
   ]
  },
  {
   "cell_type": "code",
   "execution_count": 22,
   "id": "e1370620",
   "metadata": {},
   "outputs": [],
   "source": [
    "import imblearn.over_sampling\n",
    "\n",
    "# Set up for the ration argument of RandomOverSampler Initialization \n",
    "n_pos = np.sum(y_train == 1)\n",
    "n_neg = np.sum(y_train == 0)\n",
    "\n",
    "ratio = {1: n_pos *4, 0: n_neg}"
   ]
  },
  {
   "cell_type": "code",
   "execution_count": 23,
   "id": "9213c19a",
   "metadata": {},
   "outputs": [],
   "source": [
    "ROS = imblearn.over_sampling.RandomOverSampler(sampling_strategy = ratio, random_state = 42)\n",
    "\n",
    "X_train_rs, y_train_rs = ROS.fit_resample(X_train, y_train)"
   ]
  },
  {
   "cell_type": "markdown",
   "id": "71728a3d",
   "metadata": {},
   "source": [
    "# Logistic Regression \n"
   ]
  },
  {
   "cell_type": "code",
   "execution_count": 24,
   "id": "8b95de09",
   "metadata": {},
   "outputs": [],
   "source": [
    "\n",
    "logreg = LogisticRegression()\n",
    "logreg.fit(X_train, y_train)\n",
    "y_pred_logreg =logreg.predict(X_test)\n"
   ]
  },
  {
   "cell_type": "code",
   "execution_count": 25,
   "id": "99ac06a7",
   "metadata": {},
   "outputs": [
    {
     "name": "stdout",
     "output_type": "stream",
     "text": [
      "confusion matrix: \n",
      "\n",
      " [[52292  1145]\n",
      " [ 7420  1406]]\n",
      "              precision    recall  f1-score   support\n",
      "\n",
      "           0       0.88      0.98      0.92     53437\n",
      "           1       0.55      0.16      0.25      8826\n",
      "\n",
      "    accuracy                           0.86     62263\n",
      "   macro avg       0.71      0.57      0.59     62263\n",
      "weighted avg       0.83      0.86      0.83     62263\n",
      "\n"
     ]
    }
   ],
   "source": [
    "print (\"confusion matrix: \\n\\n\", confusion_matrix(y_test, y_pred_logreg))\n",
    "print(classification_report (y_test, y_pred_logreg))"
   ]
  },
  {
   "cell_type": "code",
   "execution_count": 26,
   "id": "db171f7d",
   "metadata": {},
   "outputs": [
    {
     "name": "stdout",
     "output_type": "stream",
     "text": [
      "Logistic Regression: \n",
      " Accuracy: 0.8624 \n",
      " Precision: 0.5512 \n",
      " Recall: 0.1593 \n",
      " F1: 0.2472\n"
     ]
    }
   ],
   "source": [
    "print('Logistic Regression: \\n Accuracy: %.4f \\n Precision: %.4f \\n Recall: %.4f \\n F1: %.4f' %\n",
    "        (accuracy(y_test, logreg.predict(X_test)), \n",
    "         precision(y_test, logreg.predict(X_test)), \n",
    "         recall(y_test, logreg.predict(X_test)),\n",
    "         F1(y_test, logreg.predict(X_test))\n",
    "        )\n",
    "     )"
   ]
  },
  {
   "cell_type": "code",
   "execution_count": 27,
   "id": "a9abbf37",
   "metadata": {},
   "outputs": [
    {
     "data": {
      "image/png": "[encoded data removed]",
      "text/plain": [
       "<Figure size 600x400 with 2 Axes>"
      ]
     },
     "metadata": {},
     "output_type": "display_data"
    }
   ],
   "source": [
    "log_reg_confusion = confusion_matrix(y_test, y_pred_logreg, normalize =\"all\")\n",
    "sns.heatmap(log_reg_confusion, cmap=plt.cm.Blues, annot = True, square = True,\n",
    "            xticklabels = [\"No Diabetes\", \"Diabetes\"],\n",
    "            yticklabels = [\"No Diabetes\", \"Diabetes\"])\n",
    "plt.xlabel (\"Predicted\")\n",
    "plt.ylabel(\"Actual\")\n",
    "plt.title (\"Logistic Regression Confusion Matrix\");"
   ]
  },
  {
   "cell_type": "markdown",
   "id": "24c4ef0c",
   "metadata": {},
   "source": [
    "# Logistic Regression on resampled data "
   ]
  },
  {
   "cell_type": "code",
   "execution_count": 28,
   "id": "b6e25b97",
   "metadata": {},
   "outputs": [],
   "source": [
    "logreg = LogisticRegression()\n",
    "logreg.fit(X_train_rs, y_train_rs)\n",
    "y_pred_logreg =logreg.predict(X_test)"
   ]
  },
  {
   "cell_type": "code",
   "execution_count": 29,
   "id": "ffc0332c",
   "metadata": {},
   "outputs": [
    {
     "name": "stdout",
     "output_type": "stream",
     "text": [
      "confusion matrix: \n",
      "\n",
      " [[43444  9993]\n",
      " [ 3110  5716]]\n",
      "              precision    recall  f1-score   support\n",
      "\n",
      "           0       0.93      0.81      0.87     53437\n",
      "           1       0.36      0.65      0.47      8826\n",
      "\n",
      "    accuracy                           0.79     62263\n",
      "   macro avg       0.65      0.73      0.67     62263\n",
      "weighted avg       0.85      0.79      0.81     62263\n",
      "\n"
     ]
    }
   ],
   "source": [
    "print (\"confusion matrix: \\n\\n\", confusion_matrix(y_test, y_pred_logreg))\n",
    "print(classification_report (y_test, y_pred_logreg))"
   ]
  },
  {
   "cell_type": "code",
   "execution_count": 30,
   "id": "515f6239",
   "metadata": {},
   "outputs": [
    {
     "data": {
      "image/png": "[encoded data removed]",
      "text/plain": [
       "<Figure size 600x400 with 2 Axes>"
      ]
     },
     "metadata": {},
     "output_type": "display_data"
    }
   ],
   "source": [
    "log_reg_confusion = confusion_matrix(y_test, y_pred_logreg, normalize =\"all\")\n",
    "sns.heatmap(log_reg_confusion, cmap=plt.cm.Blues, annot = True, square = True,\n",
    "            xticklabels = [\"No Diabetes\", \"Diabetes\"],\n",
    "            yticklabels = [\"No Diabetes\", \"Diabetes\"])\n",
    "plt.xlabel (\"Predicted\")\n",
    "plt.ylabel(\"Actual\")\n",
    "plt.title (\"Logistic Regression Confusion Matrix\");"
   ]
  },
  {
   "cell_type": "code",
   "execution_count": 31,
   "id": "dc5f40e8",
   "metadata": {},
   "outputs": [
    {
     "name": "stdout",
     "output_type": "stream",
     "text": [
      "Logistic Regression: \n",
      " Accuracy: 0.7896 \n",
      " Precision: 0.3639 \n",
      " Recall: 0.6476 \n",
      " F1: 0.4659\n"
     ]
    }
   ],
   "source": [
    "print('Logistic Regression: \\n Accuracy: %.4f \\n Precision: %.4f \\n Recall: %.4f \\n F1: %.4f' %\n",
    "        (accuracy(y_test, logreg.predict(X_test)), \n",
    "         precision(y_test, logreg.predict(X_test)), \n",
    "         recall(y_test, logreg.predict(X_test)),\n",
    "         F1(y_test, logreg.predict(X_test))\n",
    "        )\n",
    "     )"
   ]
  },
  {
   "cell_type": "code",
   "execution_count": 32,
   "id": "2cdee863",
   "metadata": {},
   "outputs": [
    {
     "name": "stdout",
     "output_type": "stream",
     "text": [
      "Cross-Validation Accuracy Scores [0.74965271 0.74781303 0.74135536 0.74439647 0.7455979  0.74571053\n",
      " 0.74404896 0.74341068 0.74048209 0.74307276]\n"
     ]
    }
   ],
   "source": [
    "from sklearn.model_selection import cross_val_score\n",
    "\n",
    "scores = cross_val_score(logreg, X_train_rs, y_train_rs, cv=10)\n",
    "print('Cross-Validation Accuracy Scores', scores)"
   ]
  },
  {
   "cell_type": "code",
   "execution_count": 33,
   "id": "380efd4c",
   "metadata": {},
   "outputs": [
    {
     "data": {
      "text/plain": [
       "0.7445540492378179"
      ]
     },
     "execution_count": 33,
     "metadata": {},
     "output_type": "execute_result"
    }
   ],
   "source": [
    "scores = pd.Series(scores)\n",
    "scores.mean()"
   ]
  },
  {
   "cell_type": "code",
   "execution_count": 37,
   "id": "3f517a05",
   "metadata": {},
   "outputs": [
    {
     "name": "stdout",
     "output_type": "stream",
     "text": [
      "Feature: 0, Score: 0.16320\n",
      "Feature: 1, Score: -0.64301\n",
      "Feature: 2, Score: 0.48497\n",
      "Feature: 3, Score: -0.46190\n",
      "Feature: 4, Score: 0.18432\n",
      "Feature: 5, Score: -0.11978\n",
      "Feature: 6, Score: -0.40602\n",
      "Feature: 7, Score: 0.03772\n",
      "Feature: 8, Score: -0.51785\n",
      "Feature: 9, Score: 0.26540\n"
     ]
    },
    {
     "data": {
      "image/png": "[encoded data removed]",
      "text/plain": [
       "<Figure size 600x400 with 1 Axes>"
      ]
     },
     "metadata": {},
     "output_type": "display_data"
    }
   ],
   "source": [
    "\n",
    "# logistic regression for feature importance\n",
    "from sklearn.datasets import make_classification\n",
    "from sklearn.linear_model import LogisticRegression\n",
    "from matplotlib import pyplot\n",
    "# define dataset\n",
    "X, y = make_classification(n_samples=1000, n_features=10, n_informative=5, n_redundant=5, random_state=1)\n",
    "# define the model\n",
    "model = LogisticRegression()\n",
    "# fit the model\n",
    "model.fit(X, y)\n",
    "# get importance\n",
    "importance = model.coef_[0]\n",
    "# summarize feature importance\n",
    "for i,v in enumerate(importance):\n",
    "\tprint('Feature: %0d, Score: %.5f' % (i,v))\n",
    "# plot feature importance\n",
    "pyplot.bar([x for x in range(len(importance))], importance)\n",
    "pyplot.show()"
   ]
  },
  {
   "cell_type": "markdown",
   "id": "643eb8e6",
   "metadata": {},
   "source": [
    "# KNN Algorithm "
   ]
  },
  {
   "cell_type": "code",
   "execution_count": 38,
   "id": "a1d44ebd",
   "metadata": {},
   "outputs": [
    {
     "data": {
      "text/plain": [
       "KNeighborsClassifier(n_neighbors=10)"
      ]
     },
     "execution_count": 38,
     "metadata": {},
     "output_type": "execute_result"
    }
   ],
   "source": [
    "#KNN \n",
    "from sklearn.neighbors import KNeighborsClassifier\n",
    "\n",
    "knn = KNeighborsClassifier(n_neighbors = 10)\n",
    "knn.fit(X_train_rs, y_train_rs)"
   ]
  },
  {
   "cell_type": "code",
   "execution_count": 40,
   "id": "7ca32317",
   "metadata": {},
   "outputs": [
    {
     "name": "stdout",
     "output_type": "stream",
     "text": [
      "10 nearest neighbors validation metrics: \n",
      " Accuracy: 0.7673 \n",
      " Precision: 0.3128 \n",
      " Recall: 0.5360 \n",
      " F1: 0.3951\n"
     ]
    }
   ],
   "source": [
    "print('10 nearest neighbors validation metrics: \\n Accuracy: %.4f \\n Precision: %.4f \\n Recall: %.4f \\n F1: %.4f' %\n",
    "        (accuracy(y_test, knn.predict(X_test)), \n",
    "         precision(y_test, knn.predict(X_test)), \n",
    "         recall(y_test, knn.predict(X_test)),\n",
    "         F1(y_test, knn.predict(X_test))\n",
    "        )\n",
    "     )"
   ]
  },
  {
   "cell_type": "code",
   "execution_count": 41,
   "id": "51a948a0",
   "metadata": {},
   "outputs": [
    {
     "name": "stdout",
     "output_type": "stream",
     "text": [
      "Cross-Validation Accuracy Scores [0.76538389 0.76662286 0.77071522 0.78464427 0.78554534 0.78302985\n",
      " 0.78275888 0.78452354 0.77810318 0.78414808]\n"
     ]
    }
   ],
   "source": [
    "scores = cross_val_score(knn, X_train_rs, y_train_rs, cv=10)\n",
    "print('Cross-Validation Accuracy Scores', scores)"
   ]
  },
  {
   "cell_type": "code",
   "execution_count": 42,
   "id": "bb9a9fb6",
   "metadata": {},
   "outputs": [
    {
     "data": {
      "text/plain": [
       "(0.7653838933733809, 0.7785475109205134, 0.7855453350854139)"
      ]
     },
     "execution_count": 42,
     "metadata": {},
     "output_type": "execute_result"
    }
   ],
   "source": [
    "scores = pd.Series(scores)\n",
    "scores.min(), scores.mean(), scores.max()"
   ]
  },
  {
   "cell_type": "markdown",
   "id": "e6e4e0bf",
   "metadata": {},
   "source": [
    "_____________________________________________________________________________________________________________________"
   ]
  },
  {
   "cell_type": "markdown",
   "id": "7c254042",
   "metadata": {},
   "source": [
    "# RANDOM Forest Algorithm"
   ]
  },
  {
   "cell_type": "code",
   "execution_count": 95,
   "id": "547e0f02",
   "metadata": {},
   "outputs": [],
   "source": [
    "from sklearn.ensemble import RandomForestClassifier\n",
    "from sklearn.datasets import make_classification\n",
    "#create a Gaussian Classifier\n",
    "random_forest_clf=rfc = RandomForestClassifier(n_estimators=100, n_jobs = -1,class_weight=\"balanced\",random_state =50 , min_samples_leaf = 10)\n",
    "rfc.fit(X_train,y_train)\n",
    "y_pred_rfc = random_forest_clf.predict(X_test)"
   ]
  },
  {
   "cell_type": "code",
   "execution_count": 96,
   "id": "a012ed32",
   "metadata": {},
   "outputs": [
    {
     "name": "stdout",
     "output_type": "stream",
     "text": [
      "confusion matrix: \n",
      "\n",
      " [[41581 11856]\n",
      " [ 2476  6350]]\n",
      "              precision    recall  f1-score   support\n",
      "\n",
      "           0       0.94      0.78      0.85     53437\n",
      "           1       0.35      0.72      0.47      8826\n",
      "\n",
      "    accuracy                           0.77     62263\n",
      "   macro avg       0.65      0.75      0.66     62263\n",
      "weighted avg       0.86      0.77      0.80     62263\n",
      "\n"
     ]
    }
   ],
   "source": [
    "print(\"confusion matrix: \\n\\n\", \n",
    "      confusion_matrix(y_test, y_pred_rfc))\n",
    "\n",
    "print(classification_report(y_test, y_pred_rfc))"
   ]
  },
  {
   "cell_type": "code",
   "execution_count": 97,
   "id": "b33381e1",
   "metadata": {},
   "outputs": [
    {
     "name": "stdout",
     "output_type": "stream",
     "text": [
      "Cross-Validation Accuracy Scores [0.79864839 0.79759715 0.79643326 0.80649521 0.80551905 0.80390464\n",
      " 0.80513629 0.80171961 0.8060374  0.80412255]\n"
     ]
    }
   ],
   "source": [
    "scores = cross_val_score(random_forest_clf, X_train_rs, y_train_rs, cv=10)\n",
    "print('Cross-Validation Accuracy Scores', scores)\n"
   ]
  },
  {
   "cell_type": "code",
   "execution_count": 98,
   "id": "1848643c",
   "metadata": {},
   "outputs": [
    {
     "data": {
      "text/plain": [
       "(0.7964332645015957, 0.8025613554189768, 0.8064952130655153)"
      ]
     },
     "execution_count": 98,
     "metadata": {},
     "output_type": "execute_result"
    }
   ],
   "source": [
    "scores = pd.Series(scores)\n",
    "scores.min(), scores.mean(), scores.max()"
   ]
  },
  {
   "cell_type": "code",
   "execution_count": 99,
   "id": "bd5bb44e",
   "metadata": {
    "scrolled": true
   },
   "outputs": [
    {
     "name": "stdout",
     "output_type": "stream",
     "text": [
      "Random Forest validation metrics: \n",
      " Accuracy: 0.7698 \n",
      " Precision: 0.3488 \n",
      " Recall: 0.7195 \n",
      " F1: 0.4698\n"
     ]
    }
   ],
   "source": [
    "print('Random Forest validation metrics: \\n Accuracy: %.4f \\n Precision: %.4f \\n Recall: %.4f \\n F1: %.4f' %\n",
    "        (accuracy(y_test, random_forest_clf.predict(X_test)), \n",
    "         precision(y_test, random_forest_clf.predict(X_test)), \n",
    "         recall(y_test, random_forest_clf.predict(X_test)),\n",
    "         F1(y_test, random_forest_clf.predict(X_test))\n",
    "        )\n",
    "     )"
   ]
  },
  {
   "cell_type": "code",
   "execution_count": 100,
   "id": "0a2ee73e",
   "metadata": {},
   "outputs": [
    {
     "name": "stdout",
     "output_type": "stream",
     "text": [
      "Feature: 0, Score: 0.00697\n",
      "Feature: 1, Score: 0.00702\n",
      "Feature: 2, Score: 0.00572\n",
      "Feature: 3, Score: 0.10116\n",
      "Feature: 4, Score: 0.19873\n",
      "Feature: 5, Score: 0.00565\n",
      "Feature: 6, Score: 0.00636\n",
      "Feature: 7, Score: 0.37009\n",
      "Feature: 8, Score: 0.27829\n",
      "Feature: 9, Score: 0.00652\n",
      "Feature: 10, Score: 0.00709\n",
      "Feature: 11, Score: 0.00639\n"
     ]
    },
    {
     "data": {
      "image/png": "[encoded data removed]",
      "text/plain": [
       "<Figure size 432x288 with 1 Axes>"
      ]
     },
     "metadata": {
      "needs_background": "light"
     },
     "output_type": "display_data"
    }
   ],
   "source": [
    "from sklearn.datasets import make_regression\n",
    "from sklearn.ensemble import RandomForestRegressor\n",
    "from matplotlib import pyplot\n",
    "# define dataset\n",
    "X, y = make_regression(n_samples=1000, n_features=12, n_informative=5, random_state=1)\n",
    "# define the model\n",
    "model = RandomForestRegressor()\n",
    "# fit the model\n",
    "model.fit(X, y)\n",
    "# get importance\n",
    "importance = model.feature_importances_\n",
    "# summarize feature importance\n",
    "for i,v in enumerate(importance):\n",
    "\tprint('Feature: %0d, Score: %.5f' % (i,v))\n",
    "# plot feature importance\n",
    "pyplot.bar([x for x in range(len(importance))], importance)\n",
    "pyplot.show()"
   ]
  },
  {
   "cell_type": "markdown",
   "id": "43834be9",
   "metadata": {},
   "source": [
    "_____________________________________________________________________________________________________________________"
   ]
  },
  {
   "cell_type": "markdown",
   "id": "9cbfb56b",
   "metadata": {},
   "source": [
    "# Decision Tree Algorithmn"
   ]
  },
  {
   "cell_type": "code",
   "execution_count": 101,
   "id": "efa46f0e",
   "metadata": {},
   "outputs": [],
   "source": [
    "feature_cols = ['HighBP', 'HighChol', 'CholCheck', 'BMI', 'Smoker',\n",
    "       'Stroke', 'HeartDiseaseorAttack', 'PhysActivity', 'Fruits', 'Veggies',\n",
    "       'HvyAlcoholConsump', 'AnyHealthcare', 'NoDocbcCost', 'GenHlth',\n",
    "       'MentHlth', 'PhysHlth', 'DiffWalk', 'Sex', 'Age', 'Education',\n",
    "       'Income']"
   ]
  },
  {
   "cell_type": "code",
   "execution_count": 102,
   "id": "9cbcff80",
   "metadata": {},
   "outputs": [],
   "source": [
    "decision_tree_clf = DecisionTreeClassifier(max_depth=3)#can either set it here or in fit \n",
    "decision_tree_clf = decision_tree_clf.fit(X_train_rs, y_train_rs)\n",
    "y_pred = decision_tree_clf.predict(X_test)"
   ]
  },
  {
   "cell_type": "code",
   "execution_count": 103,
   "id": "d8129f44",
   "metadata": {},
   "outputs": [
    {
     "name": "stdout",
     "output_type": "stream",
     "text": [
      "Accuracy:  0.7698633217159468\n",
      "Precision:  0.9270924340380919\n",
      "Recall:  0.7943185433313996\n"
     ]
    }
   ],
   "source": [
    "print(\"Accuracy: \", metrics.accuracy_score(y_test, y_pred))\n",
    "#precision is how accurate tyour model is \n",
    "print(\"Precision: \", metrics.precision_score(y_test, y_pred, pos_label= 0)) \n",
    "print(\"Recall: \", metrics.recall_score(y_test, y_pred, pos_label= 0))"
   ]
  },
  {
   "cell_type": "code",
   "execution_count": 104,
   "id": "0a42dfa7",
   "metadata": {},
   "outputs": [
    {
     "name": "stdout",
     "output_type": "stream",
     "text": [
      "Decision Tree validation metrics: \n",
      " Accuracy: 0.7699 \n",
      " Precision: 0.3330 \n",
      " Recall: 0.6218 \n",
      " F1: 0.4337\n"
     ]
    }
   ],
   "source": [
    "print('Decision Tree validation metrics: \\n Accuracy: %.4f \\n Precision: %.4f \\n Recall: %.4f \\n F1: %.4f' %\n",
    "        (accuracy(y_test, decision_tree_clf.predict(X_test)), \n",
    "         precision(y_test, decision_tree_clf.predict(X_test)), \n",
    "         recall(y_test, decision_tree_clf.predict(X_test)),\n",
    "         F1(y_test, decision_tree_clf.predict(X_test))\n",
    "        )\n",
    "     )"
   ]
  },
  {
   "cell_type": "code",
   "execution_count": 82,
   "id": "6d83d739",
   "metadata": {},
   "outputs": [
    {
     "data": {
      "image/png": "[encoded data removed]",
      "text/plain": [
       "<IPython.core.display.Image object>"
      ]
     },
     "execution_count": 82,
     "metadata": {},
     "output_type": "execute_result"
    }
   ],
   "source": [
    "dot_data = StringIO()\n",
    "export_graphviz(decision_tree_clf, out_file=dot_data,  \n",
    "                filled=True, rounded=True,\n",
    "                special_characters=True,feature_names = feature_cols,class_names=['0','1'])\n",
    "graph = pydotplus.graph_from_dot_data(dot_data.getvalue())  \n",
    "graph.write_png('diabetes.png')\n",
    "Image(graph.create_png())"
   ]
  },
  {
   "cell_type": "code",
   "execution_count": 105,
   "id": "32957692",
   "metadata": {},
   "outputs": [
    {
     "name": "stdout",
     "output_type": "stream",
     "text": [
      "Cross-Validation Accuracy Scores [0.71912897 0.72130655 0.71319692 0.71995495 0.71860334 0.7185658\n",
      " 0.71269806 0.71311106 0.71754149 0.72069535]\n"
     ]
    }
   ],
   "source": [
    "scores = cross_val_score(decision_tree_clf, X_train_rs, y_train_rs, cv=10)\n",
    "print('Cross-Validation Accuracy Scores', scores)\n"
   ]
  },
  {
   "cell_type": "code",
   "execution_count": 106,
   "id": "6a55efc0",
   "metadata": {},
   "outputs": [
    {
     "data": {
      "text/plain": [
       "(0.7126980551175189, 0.7174802479667967, 0.7213065515299418)"
      ]
     },
     "execution_count": 106,
     "metadata": {},
     "output_type": "execute_result"
    }
   ],
   "source": [
    "scores = pd.Series(scores)\n",
    "scores.min(), scores.mean(), scores.max()"
   ]
  },
  {
   "cell_type": "code",
   "execution_count": null,
   "id": "078ecdf9",
   "metadata": {},
   "outputs": [],
   "source": [
    "#hyper parameter tuning on best one. Logistic regression regualization parameters alpha or beta. cross validation for small amount of data. Validation for large data set.\n"
   ]
  },
  {
   "cell_type": "code",
   "execution_count": null,
   "id": "3ffcafc5",
   "metadata": {},
   "outputs": [],
   "source": [
    "#hard predictor, yes no, soft predictor, model explainability. what are the ones that they can change. Save your model.and run a new data through it . Web app. "
   ]
  },
  {
   "cell_type": "markdown",
   "id": "318e3b6d",
   "metadata": {},
   "source": [
    "# Ensembling Algorithmn"
   ]
  },
  {
   "cell_type": "code",
   "execution_count": 77,
   "id": "6438fbcd",
   "metadata": {},
   "outputs": [],
   "source": [
    "#import and instantiate base models\n",
    "from sklearn.neighbors import KNeighborsClassifier\n",
    "knn = KNeighborsClassifier()\n",
    "dt= DecisionTreeClassifier()\n",
    "lr= LogisticRegression(C=1000)"
   ]
  },
  {
   "cell_type": "code",
   "execution_count": 78,
   "id": "9785601f",
   "metadata": {},
   "outputs": [],
   "source": [
    "\n",
    "model_list = [(\"knn\", knn),\n",
    "             (\"tree\", dt),\n",
    "             (\"log_reg\", lr)]"
   ]
  },
  {
   "cell_type": "code",
   "execution_count": 113,
   "id": "961fc6ea",
   "metadata": {},
   "outputs": [
    {
     "name": "stdout",
     "output_type": "stream",
     "text": [
      "knn score: 0.7408733919020928\n",
      "tree score: 0.7963156288646548\n",
      "log_reg score: 0.7865024171658931\n"
     ]
    }
   ],
   "source": [
    "#train ans score basemodels\n",
    "#fit and check the accuracy of each base model\n",
    "\n",
    "for model in model_list:\n",
    "    curr_name, curr_model = model\n",
    "    curr_model.fit(X_train_rs, y_train_rs)\n",
    "    curr_score = curr_model.score(X_test, y_test)\n",
    "    \n",
    "    print(f'{curr_name} score: {curr_score}')"
   ]
  },
  {
   "cell_type": "markdown",
   "id": "55e839fc",
   "metadata": {},
   "source": [
    "# Voting Classifier"
   ]
  },
  {
   "cell_type": "code",
   "execution_count": 80,
   "id": "c33e4862",
   "metadata": {},
   "outputs": [],
   "source": [
    "#import and instantiate voting classifier\n",
    "from sklearn.ensemble import VotingClassifier\n",
    "\n",
    "vc = VotingClassifier (estimators=model_list,\n",
    "                      voting = \"hard\", #max and mjority voting #soft for average voting\n",
    "                      weights = None)"
   ]
  },
  {
   "cell_type": "code",
   "execution_count": 114,
   "id": "a8aed221",
   "metadata": {},
   "outputs": [
    {
     "data": {
      "text/plain": [
       "0.7975041356825081"
      ]
     },
     "execution_count": 114,
     "metadata": {},
     "output_type": "execute_result"
    }
   ],
   "source": [
    "\n",
    "#fit and score voting classifier\n",
    "vc.fit(X_train_rs, y_train_rs)\n",
    "vc.score(X_test, y_test)"
   ]
  },
  {
   "cell_type": "code",
   "execution_count": 119,
   "id": "d05b8656",
   "metadata": {},
   "outputs": [
    {
     "name": "stdout",
     "output_type": "stream",
     "text": [
      "Ensembling Voting Classifier validation metrics: \n",
      " Accuracy: 0.7975 \n",
      " Precision: 0.3560 \n",
      " Recall: 0.5296 \n",
      " F1: 0.4258\n"
     ]
    }
   ],
   "source": [
    "print('Ensembling Voting Classifier validation metrics: \\n Accuracy: %.4f \\n Precision: %.4f \\n Recall: %.4f \\n F1: %.4f' %\n",
    "        (accuracy(y_test, vc.predict(X_test)), \n",
    "         precision(y_test, vc.predict(X_test)), \n",
    "         recall(y_test, vc.predict(X_test)),\n",
    "         F1(y_test, vc.predict(X_test))\n",
    "        )\n",
    "     )"
   ]
  },
  {
   "cell_type": "markdown",
   "id": "c4aa8005",
   "metadata": {},
   "source": [
    "# Cross Validation on Voting Classifer "
   ]
  },
  {
   "cell_type": "code",
   "execution_count": 116,
   "id": "50fe79ec",
   "metadata": {},
   "outputs": [
    {
     "name": "stdout",
     "output_type": "stream",
     "text": [
      "Cross-Validation Accuracy Scores [0.86258682 0.86311245 0.8634128  0.88124648 0.88102121 0.8786559\n",
      " 0.88071638 0.88045356 0.88086656 0.87793797]\n"
     ]
    }
   ],
   "source": [
    "scores = cross_val_score(vc, X_train_rs, y_train_rs, cv=10)\n",
    "print('Cross-Validation Accuracy Scores', scores)"
   ]
  },
  {
   "cell_type": "code",
   "execution_count": 117,
   "id": "3330dc46",
   "metadata": {},
   "outputs": [
    {
     "data": {
      "text/plain": [
       "(0.862586821850948, 0.875001013607917, 0.8812464801952319)"
      ]
     },
     "execution_count": 117,
     "metadata": {},
     "output_type": "execute_result"
    }
   ],
   "source": [
    "scores = pd.Series(scores)\n",
    "scores.min(), scores.mean(), scores.max()"
   ]
  },
  {
   "cell_type": "markdown",
   "id": "1e927858",
   "metadata": {},
   "source": [
    "# Stacking Classifier "
   ]
  },
  {
   "cell_type": "code",
   "execution_count": 73,
   "id": "022a635d",
   "metadata": {},
   "outputs": [],
   "source": [
    "#stacking classifier \n",
    "from sklearn.ensemble import StackingClassifier\n",
    "\n",
    "sc= StackingClassifier(estimators=model_list,\n",
    "                      final_estimator= LogisticRegression())"
   ]
  },
  {
   "cell_type": "code",
   "execution_count": 87,
   "id": "d9e99ea7",
   "metadata": {},
   "outputs": [
    {
     "data": {
      "text/plain": [
       "0.8623098790614009"
      ]
     },
     "execution_count": 87,
     "metadata": {},
     "output_type": "execute_result"
    }
   ],
   "source": [
    "sc.fit(X_train, y_train)\n",
    "sc.score(X_test, y_test)"
   ]
  },
  {
   "cell_type": "markdown",
   "id": "bc71892b",
   "metadata": {},
   "source": [
    "\n",
    "# Cross Validation on Stacking Classifer "
   ]
  },
  {
   "cell_type": "code",
   "execution_count": 90,
   "id": "5b077bb6",
   "metadata": {},
   "outputs": [
    {
     "name": "stdout",
     "output_type": "stream",
     "text": [
      "Cross-Validation Accuracy Scores [0.91383518 0.91278393 0.91650084 0.9275765  0.93110569 0.92862775\n",
      " 0.92956372 0.93080273 0.92877525 0.93027709]\n"
     ]
    }
   ],
   "source": [
    "scores = cross_val_score(sc, X_train_rs, y_train_rs, cv=10)\n",
    "print('Cross-Validation Accuracy Scores', scores)"
   ]
  },
  {
   "cell_type": "code",
   "execution_count": 93,
   "id": "2f1d0600",
   "metadata": {},
   "outputs": [
    {
     "data": {
      "text/plain": [
       "(0.9127839309179651, 0.9249848673504337, 0.9311056880045053)"
      ]
     },
     "execution_count": 93,
     "metadata": {},
     "output_type": "execute_result"
    }
   ],
   "source": [
    "scores = pd.Series(scores)\n",
    "scores.min(), scores.mean(), scores.max()"
   ]
  },
  {
   "cell_type": "code",
   "execution_count": 118,
   "id": "93bbb164",
   "metadata": {},
   "outputs": [
    {
     "name": "stdout",
     "output_type": "stream",
     "text": [
      "Ensembling Stacking validation metrics: \n",
      " Accuracy: 0.8623 \n",
      " Precision: 0.5388 \n",
      " Recall: 0.1988 \n",
      " F1: 0.2905\n"
     ]
    }
   ],
   "source": [
    "print('Ensembling Stacking validation metrics: \\n Accuracy: %.4f \\n Precision: %.4f \\n Recall: %.4f \\n F1: %.4f' %\n",
    "        (accuracy(y_test, sc.predict(X_test)), \n",
    "         precision(y_test, sc.predict(X_test)), \n",
    "         recall(y_test, sc.predict(X_test)),\n",
    "         F1(y_test, sc.predict(X_test))\n",
    "        )\n",
    "     )"
   ]
  }
 ],
 "metadata": {
  "kernelspec": {
   "display_name": "Python [conda env:metis] *",
   "language": "python",
   "name": "conda-env-metis-py"
  },
  "language_info": {
   "codemirror_mode": {
    "name": "ipython",
    "version": 3
   },
   "file_extension": ".py",
   "mimetype": "text/x-python",
   "name": "python",
   "nbconvert_exporter": "python",
   "pygments_lexer": "ipython3",
   "version": "3.9.7"
  }
 },
 "nbformat": 4,
 "nbformat_minor": 5
}
